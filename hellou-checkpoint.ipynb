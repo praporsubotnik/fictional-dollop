{
 "cells": [
  {
   "cell_type": "code",
   "execution_count": 1,
   "id": "9e997bb9-5b95-41f7-8ad2-e611ce5cadf3",
   "metadata": {
    "tags": []
   },
   "outputs": [
    {
     "name": "stdout",
     "output_type": "stream",
     "text": [
      "hellou world\n"
     ]
    }
   ],
   "source": [
    "print('hellou world')"
   ]
  },
  {
   "cell_type": "code",
   "execution_count": null,
   "id": "df7f1db9-1f18-413b-a376-3f1066bdb691",
   "metadata": {},
   "outputs": [],
   "source": []
  }
 ],
 "metadata": {
  "kernelspec": {
   "display_name": "Python 3 (ipykernel)",
   "language": "python",
   "name": "python3"
  },
  "language_info": {
   "codemirror_mode": {
    "name": "ipython",
    "version": 3
   },
   "file_extension": ".py",
   "mimetype": "text/x-python",
   "name": "python",
   "nbconvert_exporter": "python",
   "pygments_lexer": "ipython3",
   "version": "3.11.4"
  }
 },
 "nbformat": 4,
 "nbformat_minor": 5
}
